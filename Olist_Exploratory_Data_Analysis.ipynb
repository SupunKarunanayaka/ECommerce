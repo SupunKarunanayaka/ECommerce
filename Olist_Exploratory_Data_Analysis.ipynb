{
  "nbformat": 4,
  "nbformat_minor": 0,
  "metadata": {
    "colab": {
      "provenance": [],
      "authorship_tag": "ABX9TyO7VxnjjiM+ae1VFMbQRK3v",
      "include_colab_link": true
    },
    "kernelspec": {
      "name": "python3",
      "display_name": "Python 3"
    },
    "language_info": {
      "name": "python"
    }
  },
  "cells": [
    {
      "cell_type": "markdown",
      "metadata": {
        "id": "view-in-github",
        "colab_type": "text"
      },
      "source": [
        "<a href=\"https://colab.research.google.com/github/SupunKarunanayaka/Ecommerce/blob/main/Olist_Exploratory_Data_Analysis.ipynb\" target=\"_parent\"><img src=\"https://colab.research.google.com/assets/colab-badge.svg\" alt=\"Open In Colab\"/></a>"
      ]
    },
    {
      "cell_type": "code",
      "source": [
        "# Import data set form GitHub through clonning the data folder in the repository.\n",
        "!git clone https://github.com/SupunKarunanayaka/Ecommerce.git"
      ],
      "metadata": {
        "colab": {
          "base_uri": "https://localhost:8080/"
        },
        "id": "lPsUnW0KjPi7",
        "outputId": "324b39ea-8718-4bae-c0c0-ba39b6349fa6"
      },
      "execution_count": 1,
      "outputs": [
        {
          "output_type": "stream",
          "name": "stdout",
          "text": [
            "fatal: destination path 'Ecommerce' already exists and is not an empty directory.\n"
          ]
        }
      ]
    },
    {
      "cell_type": "code",
      "source": [
        "# Navigate to the data folder within repository\n",
        "%cd Ecommerce/Data\n"
      ],
      "metadata": {
        "colab": {
          "base_uri": "https://localhost:8080/"
        },
        "id": "rWGaomvMkXM9",
        "outputId": "bad7855e-be0c-4979-add4-bb8d95bd2708"
      },
      "execution_count": 2,
      "outputs": [
        {
          "output_type": "stream",
          "name": "stdout",
          "text": [
            "/content/Ecommerce/Data\n"
          ]
        }
      ]
    },
    {
      "cell_type": "code",
      "source": [
        "# Import Libraries\n",
        "import pandas as pd\n",
        "import numpy as np\n",
        "import matplotlib.pyplot as plt\n",
        "import seaborn as sns"
      ],
      "metadata": {
        "id": "oWWQUpIdkovd"
      },
      "execution_count": 3,
      "outputs": []
    },
    {
      "cell_type": "code",
      "source": [
        "# Import data sets\n",
        "df_customers = pd.read_csv('olist_customers_dataset.csv')\n",
        "df_geolocation = pd.read_csv('Geo_Locations.csv')\n",
        "df_geolocation_cordinates = pd.read_csv('Geo_Location_Cordinants.csv')\n",
        "df_order_items = pd.read_csv('olist_order_items_dataset.csv')\n",
        "df_order_payments = pd.read_csv('olist_order_payments_dataset.csv')\n",
        "df_order_reviews = pd.read_csv('olist_order_reviews_dataset.csv')\n",
        "df_orders = pd.read_csv('olist_orders_dataset.csv')\n",
        "df_products = pd.read_csv('olist_products_dataset.csv')\n",
        "df_sellers = pd.read_csv('olist_sellers_dataset.csv')\n",
        "df_category_name_translation = pd.read_csv('product_category_name_translation.csv')"
      ],
      "metadata": {
        "id": "pvQ61kIPk0bO"
      },
      "execution_count": 4,
      "outputs": []
    },
    {
      "cell_type": "code",
      "source": [
        "# Merge data sets\n",
        "df = pd.merge(df_orders, df_order_items, on='order_id')\n",
        "df = pd.merge(df, df_customers, on='customer_id')\n",
        "df = pd.merge(df, df_products, on='product_id')\n",
        "df = pd.merge(df, df_sellers, on='seller_id')\n",
        "df = pd.merge(df, df_order_payments, on='order_id')\n",
        "df = pd.merge(df, df_order_reviews, on='order_id')\n"
      ],
      "metadata": {
        "id": "f7NZm88PuS0_"
      },
      "execution_count": 5,
      "outputs": []
    },
    {
      "cell_type": "code",
      "source": [
        "df_geolocations = pd.merge(df_geolocation, df_geolocation_cordinates, on='geolocation_zip_code_prefix')"
      ],
      "metadata": {
        "id": "HBA1OGKkuzDI"
      },
      "execution_count": 11,
      "outputs": []
    },
    {
      "cell_type": "code",
      "source": [
        "df = pd.merge(df, df_geolocations, left_on='customer_zip_code_prefix', right_on='geolocation_zip_code_prefix')"
      ],
      "metadata": {
        "id": "Qfhpus8MLBar"
      },
      "execution_count": 12,
      "outputs": []
    },
    {
      "cell_type": "code",
      "source": [
        "df.head()"
      ],
      "metadata": {
        "id": "JhoFA5vnLeGl"
      },
      "execution_count": null,
      "outputs": []
    },
    {
      "cell_type": "code",
      "source": [
        "df.shape"
      ],
      "metadata": {
        "colab": {
          "base_uri": "https://localhost:8080/"
        },
        "id": "ypy7drdhLnJZ",
        "outputId": "96d19238-602c-4769-e021-0802ca78beeb"
      },
      "execution_count": 14,
      "outputs": [
        {
          "output_type": "execute_result",
          "data": {
            "text/plain": [
              "(17310404, 44)"
            ]
          },
          "metadata": {},
          "execution_count": 14
        }
      ]
    }
  ]
}